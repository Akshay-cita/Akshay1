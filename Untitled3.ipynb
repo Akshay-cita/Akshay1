{
 "cells": [
  {
   "cell_type": "code",
   "execution_count": 39,
   "metadata": {},
   "outputs": [],
   "source": [
    "import numpy as np\n",
    "import pandas as pd\n",
    "from IPython.display import display\n",
    "import matplotlib.pyplot as plt\n",
    "from textblob import TextBlob\n",
    "from tqdm import tqdm"
   ]
  },
  {
   "cell_type": "code",
   "execution_count": 3,
   "metadata": {},
   "outputs": [],
   "source": [
    "%matplotlib inline\n"
   ]
  },
  {
   "cell_type": "code",
   "execution_count": 5,
   "metadata": {},
   "outputs": [
    {
     "data": {
      "text/plain": [
       "'0.23.4'"
      ]
     },
     "execution_count": 5,
     "metadata": {},
     "output_type": "execute_result"
    }
   ],
   "source": [
    "pd.__version__"
   ]
  },
  {
   "cell_type": "code",
   "execution_count": 25,
   "metadata": {},
   "outputs": [
    {
     "data": {
      "text/plain": [
       "0       She left her husband. He killed their children...\n",
       "1                                Of course it has a song.\n",
       "2       The actor and his longtime girlfriend Anna Ebe...\n",
       "3       The actor gives Dems an ass-kicking for not fi...\n",
       "4       The \"Dietland\" actress said using the bags is ...\n",
       "5       \"It is not right to equate horrific incidents ...\n",
       "6                                 It's catchy, all right.\n",
       "7          There's a great mini-series joining this week.\n",
       "8       Myer's kids may be pushing for a new \"Powers\" ...\n",
       "9       You're getting a recent Academy Award-winning ...\n",
       "10      The pop star also wore a \"Santa Fe Strong\" shi...\n",
       "11      The two met to pave the way for a summit betwe...\n",
       "12       The revolution is coming to rural New Brunswick.\n",
       "13      Last month a Health and Human Services officia...\n",
       "14      The wiretaps feature conversations between Ale...\n",
       "15      But don't count on Robert Mueller to nail him,...\n",
       "16                                 Just a peeping minute.\n",
       "17      Irish women will no longer have to travel to t...\n",
       "18      The interior secretary attempts damage control...\n",
       "19      And there are four times as many male as femal...\n",
       "20      Why buy a boring tie when you can give him tes...\n",
       "21         There's no such thing as too much \"Star Wars.\"\n",
       "22      “We have no idea what this was until we get a ...\n",
       "23      Trump’s announcement came after repeated threa...\n",
       "24      Fifteen people were taken to the hospital, thr...\n",
       "25      Just try to read these #HomeToVote tweets with...\n",
       "26                     Vote counting will begin Saturday.\n",
       "27      Forbidding players to take a knee during the n...\n",
       "28      Mia Amor Mottley even earned the backing of th...\n",
       "29      These Americans deserve to be more than anothe...\n",
       "                              ...                        \n",
       "1219    Trump's attorney says the $130,000 payment did...\n",
       "1220    Let's just say Mini-Me was quite a hit with wo...\n",
       "1221    “I said ... I want you to know what I teach my...\n",
       "1222    She also won more than $4.5 million in merit-b...\n",
       "1223    The bill would ban abortion if a heartbeat is ...\n",
       "1224     It's been six years since her last studio album.\n",
       "1225    The former CBS News host is accused of groping...\n",
       "1226    U.S. officials told NBC News that Cohen was ac...\n",
       "1227    The trolls tried to hack the competition's vot...\n",
       "1228    In a staff meeting, Jeffrey Goldberg and Ta-Ne...\n",
       "1229    Stormy Daniels' attorney says Giuliani's admis...\n",
       "1230    The reporter and activist denies accusations h...\n",
       "1231    And it's getting millennials interested in far...\n",
       "1232            \"Rudy Giuliani never got his hush money.\"\n",
       "1233    The two were off-mic when the sweet exchange h...\n",
       "1234    The “Deadpool” star admits that he developed h...\n",
       "1235    \"You are a hell of a role model for little gir...\n",
       "1236    \"Back in the day when a comedian was a welcome...\n",
       "1237    The White House press secretary shot down the ...\n",
       "1238    The Cars' rocker and supermodel have been marr...\n",
       "1239    Democrats need to refocus on the economic and ...\n",
       "1240                       It's titled \"Hippocratic oaf.\"\n",
       "1241    So excited for this torturous storyline to con...\n",
       "1242    Fans aren't convinced the song is truly \"about...\n",
       "1243                What fresh hell will next week bring?\n",
       "1244    “It’s not campaign money; no campaign finance ...\n",
       "1245    Democrat Abdul El-Sayed has no ties to the Mus...\n",
       "1246    Some of America's top researchers will move to...\n",
       "1247    Hundreds of masked and hooded anarchists smash...\n",
       "1248    “We will continue our strike and disobedience,...\n",
       "Name: short_description, Length: 1249, dtype: object"
      ]
     },
     "execution_count": 25,
     "metadata": {},
     "output_type": "execute_result"
    }
   ],
   "source": [
    "df = pd.read_csv('result_1.csv')\n",
    "saved_column = df.short_description\n",
    "saved_column"
   ]
  },
  {
   "cell_type": "code",
   "execution_count": 32,
   "metadata": {},
   "outputs": [
    {
     "data": {
      "text/html": [
       "<div>\n",
       "<style scoped>\n",
       "    .dataframe tbody tr th:only-of-type {\n",
       "        vertical-align: middle;\n",
       "    }\n",
       "\n",
       "    .dataframe tbody tr th {\n",
       "        vertical-align: top;\n",
       "    }\n",
       "\n",
       "    .dataframe thead th {\n",
       "        text-align: right;\n",
       "    }\n",
       "</style>\n",
       "<table border=\"1\" class=\"dataframe\">\n",
       "  <thead>\n",
       "    <tr style=\"text-align: right;\">\n",
       "      <th></th>\n",
       "      <th>Unnamed: 0</th>\n",
       "      <th>authors</th>\n",
       "      <th>category</th>\n",
       "      <th>date</th>\n",
       "      <th>headline</th>\n",
       "      <th>link</th>\n",
       "      <th>short_description</th>\n",
       "    </tr>\n",
       "  </thead>\n",
       "  <tbody>\n",
       "    <tr>\n",
       "      <th>0</th>\n",
       "      <td>0</td>\n",
       "      <td>Melissa Jeltsen</td>\n",
       "      <td>CRIME</td>\n",
       "      <td>2018-05-26</td>\n",
       "      <td>There Were 2 Mass Shootings In Texas Last Week...</td>\n",
       "      <td>https://www.huffingtonpost.com/entry/texas-ama...</td>\n",
       "      <td>She left her husband. He killed their children...</td>\n",
       "    </tr>\n",
       "    <tr>\n",
       "      <th>1</th>\n",
       "      <td>1</td>\n",
       "      <td>Andy McDonald</td>\n",
       "      <td>ENTERTAINMENT</td>\n",
       "      <td>2018-05-26</td>\n",
       "      <td>Will Smith Joins Diplo And Nicky Jam For The 2...</td>\n",
       "      <td>https://www.huffingtonpost.com/entry/will-smit...</td>\n",
       "      <td>Of course it has a song.</td>\n",
       "    </tr>\n",
       "    <tr>\n",
       "      <th>2</th>\n",
       "      <td>2</td>\n",
       "      <td>Ron Dicker</td>\n",
       "      <td>ENTERTAINMENT</td>\n",
       "      <td>2018-05-26</td>\n",
       "      <td>Hugh Grant Marries For The First Time At Age 57</td>\n",
       "      <td>https://www.huffingtonpost.com/entry/hugh-gran...</td>\n",
       "      <td>The actor and his longtime girlfriend Anna Ebe...</td>\n",
       "    </tr>\n",
       "    <tr>\n",
       "      <th>3</th>\n",
       "      <td>3</td>\n",
       "      <td>Ron Dicker</td>\n",
       "      <td>ENTERTAINMENT</td>\n",
       "      <td>2018-05-26</td>\n",
       "      <td>Jim Carrey Blasts 'Castrato' Adam Schiff And D...</td>\n",
       "      <td>https://www.huffingtonpost.com/entry/jim-carre...</td>\n",
       "      <td>The actor gives Dems an ass-kicking for not fi...</td>\n",
       "    </tr>\n",
       "    <tr>\n",
       "      <th>4</th>\n",
       "      <td>4</td>\n",
       "      <td>Ron Dicker</td>\n",
       "      <td>ENTERTAINMENT</td>\n",
       "      <td>2018-05-26</td>\n",
       "      <td>Julianna Margulies Uses Donald Trump Poop Bags...</td>\n",
       "      <td>https://www.huffingtonpost.com/entry/julianna-...</td>\n",
       "      <td>The \"Dietland\" actress said using the bags is ...</td>\n",
       "    </tr>\n",
       "  </tbody>\n",
       "</table>\n",
       "</div>"
      ],
      "text/plain": [
       "  Unnamed: 0          authors       category        date  \\\n",
       "0          0  Melissa Jeltsen          CRIME  2018-05-26   \n",
       "1          1    Andy McDonald  ENTERTAINMENT  2018-05-26   \n",
       "2          2       Ron Dicker  ENTERTAINMENT  2018-05-26   \n",
       "3          3       Ron Dicker  ENTERTAINMENT  2018-05-26   \n",
       "4          4       Ron Dicker  ENTERTAINMENT  2018-05-26   \n",
       "\n",
       "                                            headline  \\\n",
       "0  There Were 2 Mass Shootings In Texas Last Week...   \n",
       "1  Will Smith Joins Diplo And Nicky Jam For The 2...   \n",
       "2    Hugh Grant Marries For The First Time At Age 57   \n",
       "3  Jim Carrey Blasts 'Castrato' Adam Schiff And D...   \n",
       "4  Julianna Margulies Uses Donald Trump Poop Bags...   \n",
       "\n",
       "                                                link  \\\n",
       "0  https://www.huffingtonpost.com/entry/texas-ama...   \n",
       "1  https://www.huffingtonpost.com/entry/will-smit...   \n",
       "2  https://www.huffingtonpost.com/entry/hugh-gran...   \n",
       "3  https://www.huffingtonpost.com/entry/jim-carre...   \n",
       "4  https://www.huffingtonpost.com/entry/julianna-...   \n",
       "\n",
       "                                   short_description  \n",
       "0  She left her husband. He killed their children...  \n",
       "1                           Of course it has a song.  \n",
       "2  The actor and his longtime girlfriend Anna Ebe...  \n",
       "3  The actor gives Dems an ass-kicking for not fi...  \n",
       "4  The \"Dietland\" actress said using the bags is ...  "
      ]
     },
     "metadata": {},
     "output_type": "display_data"
    }
   ],
   "source": [
    "datafile = 'result_1.csv'\n",
    "raw_data = pd.read_csv(datafile, parse_dates=[0], infer_datetime_format=True)\n",
    "\n",
    "reindexed_data = raw_data['short_description']\n",
    "reindexed_data.index = raw_data['date']\n",
    "\n",
    "display(raw_data.head())\n"
   ]
  },
  {
   "cell_type": "code",
   "execution_count": 33,
   "metadata": {},
   "outputs": [],
   "source": [
    "positive_sentence = \"I love cheese. Truly, I feel very strongly about it: it is the best!\"\n",
    "neutral_sentence = \"Cheese is made from milk. Yesterday, the government arrested cheese. Here is some news.\"\n",
    "negative_sentence = \"How anyone can enjoy cheese is beyond me. I hate it! With every fibre of my being!\""
   ]
  },
  {
   "cell_type": "code",
   "execution_count": 34,
   "metadata": {},
   "outputs": [
    {
     "name": "stdout",
     "output_type": "stream",
     "text": [
      "Analysis of positive sentence:  Sentiment(polarity=0.6877777777777778, subjectivity=0.6177777777777778)\n",
      "Analysis of neutral sentence:  Sentiment(polarity=0.0, subjectivity=0.0)\n",
      "Analysis of negative sentence:  Sentiment(polarity=-0.3, subjectivity=0.7)\n"
     ]
    }
   ],
   "source": [
    "\n",
    "positive_blob = TextBlob(positive_sentence)\n",
    "neutral_blob = TextBlob(neutral_sentence)\n",
    "negative_blob = TextBlob(negative_sentence)\n",
    "\n",
    "print(\"Analysis of positive sentence: \", positive_blob.sentiment)\n",
    "print(\"Analysis of neutral sentence: \", neutral_blob.sentiment)\n",
    "print(\"Analysis of negative sentence: \", negative_blob.sentiment)"
   ]
  },
  {
   "cell_type": "code",
   "execution_count": 45,
   "metadata": {},
   "outputs": [],
   "source": [
    "try:\n",
    "    sentiment_analysed = pd.read_csv('result_1.csv',\n",
    "                                     index_col='date',\n",
    "                                     parse_dates=[0], infer_datetime_format=True)\n",
    "except IOError:\n",
    "    blobs = [TextBlob(reindexed_data[i]) for i in range(reindexed_data.shape[0])]\n",
    "\n",
    "    polarity = [blob.polarity for blob in blobs]\n",
    "    subjectivity = [blob.subjectivity for blob in blobs]\n",
    "\n",
    "    sentiment_analysed = pd.DataFrame({'short_description':reindexed_data, 'polarity':polarity, 'subjectivity':subjectivity}, index=reindexed_data.index)\n",
    "    sentiment_analysed.to_csv('result.csv')\n",
    "\n",
    "   "
   ]
  },
  {
   "cell_type": "code",
   "execution_count": 43,
   "metadata": {},
   "outputs": [
    {
     "ename": "TypeError",
     "evalue": "Only valid with DatetimeIndex, TimedeltaIndex or PeriodIndex, but got an instance of 'Index'",
     "output_type": "error",
     "traceback": [
      "\u001b[1;31m---------------------------------------------------------------------------\u001b[0m",
      "\u001b[1;31mTypeError\u001b[0m                                 Traceback (most recent call last)",
      "\u001b[1;32m<ipython-input-43-7fd7f51ac492>\u001b[0m in \u001b[0;36m<module>\u001b[1;34m()\u001b[0m\n\u001b[1;32m----> 1\u001b[1;33m \u001b[0mmonthly_averages\u001b[0m \u001b[1;33m=\u001b[0m \u001b[0msentiment_analysed\u001b[0m\u001b[1;33m.\u001b[0m\u001b[0mresample\u001b[0m\u001b[1;33m(\u001b[0m\u001b[1;34m'M'\u001b[0m\u001b[1;33m)\u001b[0m\u001b[1;33m.\u001b[0m\u001b[0mmean\u001b[0m\u001b[1;33m(\u001b[0m\u001b[1;33m)\u001b[0m\u001b[1;33m\u001b[0m\u001b[0m\n\u001b[0m\u001b[0;32m      2\u001b[0m \u001b[0myearly_averages\u001b[0m \u001b[1;33m=\u001b[0m \u001b[0msentiment_analysed\u001b[0m\u001b[1;33m.\u001b[0m\u001b[0mresample\u001b[0m\u001b[1;33m(\u001b[0m\u001b[1;34m'A'\u001b[0m\u001b[1;33m)\u001b[0m\u001b[1;33m.\u001b[0m\u001b[0mmean\u001b[0m\u001b[1;33m(\u001b[0m\u001b[1;33m)\u001b[0m\u001b[1;33m\u001b[0m\u001b[0m\n",
      "\u001b[1;32m~\\Anaconda3\\lib\\site-packages\\pandas\\core\\generic.py\u001b[0m in \u001b[0;36mresample\u001b[1;34m(self, rule, how, axis, fill_method, closed, label, convention, kind, loffset, limit, base, on, level)\u001b[0m\n\u001b[0;32m   7108\u001b[0m                      \u001b[0maxis\u001b[0m\u001b[1;33m=\u001b[0m\u001b[0maxis\u001b[0m\u001b[1;33m,\u001b[0m \u001b[0mkind\u001b[0m\u001b[1;33m=\u001b[0m\u001b[0mkind\u001b[0m\u001b[1;33m,\u001b[0m \u001b[0mloffset\u001b[0m\u001b[1;33m=\u001b[0m\u001b[0mloffset\u001b[0m\u001b[1;33m,\u001b[0m\u001b[1;33m\u001b[0m\u001b[0m\n\u001b[0;32m   7109\u001b[0m                      \u001b[0mconvention\u001b[0m\u001b[1;33m=\u001b[0m\u001b[0mconvention\u001b[0m\u001b[1;33m,\u001b[0m\u001b[1;33m\u001b[0m\u001b[0m\n\u001b[1;32m-> 7110\u001b[1;33m                      base=base, key=on, level=level)\n\u001b[0m\u001b[0;32m   7111\u001b[0m         return _maybe_process_deprecations(r,\n\u001b[0;32m   7112\u001b[0m                                            \u001b[0mhow\u001b[0m\u001b[1;33m=\u001b[0m\u001b[0mhow\u001b[0m\u001b[1;33m,\u001b[0m\u001b[1;33m\u001b[0m\u001b[0m\n",
      "\u001b[1;32m~\\Anaconda3\\lib\\site-packages\\pandas\\core\\resample.py\u001b[0m in \u001b[0;36mresample\u001b[1;34m(obj, kind, **kwds)\u001b[0m\n\u001b[0;32m   1146\u001b[0m     \u001b[1;34m\"\"\" create a TimeGrouper and return our resampler \"\"\"\u001b[0m\u001b[1;33m\u001b[0m\u001b[0m\n\u001b[0;32m   1147\u001b[0m     \u001b[0mtg\u001b[0m \u001b[1;33m=\u001b[0m \u001b[0mTimeGrouper\u001b[0m\u001b[1;33m(\u001b[0m\u001b[1;33m**\u001b[0m\u001b[0mkwds\u001b[0m\u001b[1;33m)\u001b[0m\u001b[1;33m\u001b[0m\u001b[0m\n\u001b[1;32m-> 1148\u001b[1;33m     \u001b[1;32mreturn\u001b[0m \u001b[0mtg\u001b[0m\u001b[1;33m.\u001b[0m\u001b[0m_get_resampler\u001b[0m\u001b[1;33m(\u001b[0m\u001b[0mobj\u001b[0m\u001b[1;33m,\u001b[0m \u001b[0mkind\u001b[0m\u001b[1;33m=\u001b[0m\u001b[0mkind\u001b[0m\u001b[1;33m)\u001b[0m\u001b[1;33m\u001b[0m\u001b[0m\n\u001b[0m\u001b[0;32m   1149\u001b[0m \u001b[1;33m\u001b[0m\u001b[0m\n\u001b[0;32m   1150\u001b[0m \u001b[1;33m\u001b[0m\u001b[0m\n",
      "\u001b[1;32m~\\Anaconda3\\lib\\site-packages\\pandas\\core\\resample.py\u001b[0m in \u001b[0;36m_get_resampler\u001b[1;34m(self, obj, kind)\u001b[0m\n\u001b[0;32m   1274\u001b[0m         raise TypeError(\"Only valid with DatetimeIndex, \"\n\u001b[0;32m   1275\u001b[0m                         \u001b[1;34m\"TimedeltaIndex or PeriodIndex, \"\u001b[0m\u001b[1;33m\u001b[0m\u001b[0m\n\u001b[1;32m-> 1276\u001b[1;33m                         \"but got an instance of %r\" % type(ax).__name__)\n\u001b[0m\u001b[0;32m   1277\u001b[0m \u001b[1;33m\u001b[0m\u001b[0m\n\u001b[0;32m   1278\u001b[0m     \u001b[1;32mdef\u001b[0m \u001b[0m_get_grouper\u001b[0m\u001b[1;33m(\u001b[0m\u001b[0mself\u001b[0m\u001b[1;33m,\u001b[0m \u001b[0mobj\u001b[0m\u001b[1;33m,\u001b[0m \u001b[0mvalidate\u001b[0m\u001b[1;33m=\u001b[0m\u001b[1;32mTrue\u001b[0m\u001b[1;33m)\u001b[0m\u001b[1;33m:\u001b[0m\u001b[1;33m\u001b[0m\u001b[0m\n",
      "\u001b[1;31mTypeError\u001b[0m: Only valid with DatetimeIndex, TimedeltaIndex or PeriodIndex, but got an instance of 'Index'"
     ]
    }
   ],
   "source": [
    "\n"
   ]
  },
  {
   "cell_type": "code",
   "execution_count": null,
   "metadata": {},
   "outputs": [],
   "source": []
  }
 ],
 "metadata": {
  "kernelspec": {
   "display_name": "Python 3",
   "language": "python",
   "name": "python3"
  },
  "language_info": {
   "codemirror_mode": {
    "name": "ipython",
    "version": 3
   },
   "file_extension": ".py",
   "mimetype": "text/x-python",
   "name": "python",
   "nbconvert_exporter": "python",
   "pygments_lexer": "ipython3",
   "version": "3.7.0"
  }
 },
 "nbformat": 4,
 "nbformat_minor": 2
}
